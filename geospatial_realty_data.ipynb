{
 "cells": [
  {
   "cell_type": "markdown",
   "id": "fcd138fb",
   "metadata": {},
   "source": [
    "### Обогащаем выборку геоданными и анализируем текущие данные"
   ]
  },
  {
   "cell_type": "code",
   "execution_count": 1,
   "id": "7853f33d",
   "metadata": {},
   "outputs": [],
   "source": [
    "import numpy as np\n",
    "import pandas as pd\n",
    "import seaborn as sns\n",
    "import matplotlib.pyplot as plt\n",
    "import warnings\n",
    "warnings.filterwarnings(\"ignore\")"
   ]
  },
  {
   "cell_type": "code",
   "execution_count": 2,
   "id": "8b892c60",
   "metadata": {},
   "outputs": [],
   "source": [
    "df = pd.read_csv('realty_data.csv')"
   ]
  },
  {
   "cell_type": "code",
   "execution_count": 3,
   "id": "4dd18acf",
   "metadata": {
    "scrolled": true
   },
   "outputs": [
    {
     "name": "stdout",
     "output_type": "stream",
     "text": [
      "<class 'pandas.core.frame.DataFrame'>\n",
      "RangeIndex: 98822 entries, 0 to 98821\n",
      "Data columns (total 17 columns):\n",
      " #   Column        Non-Null Count  Dtype  \n",
      "---  ------        --------------  -----  \n",
      " 0   product_name  98822 non-null  object \n",
      " 1   period        0 non-null      float64\n",
      " 2   price         98822 non-null  int64  \n",
      " 3   postcode      93675 non-null  float64\n",
      " 4   address_name  98821 non-null  object \n",
      " 5   lat           98822 non-null  float64\n",
      " 6   lon           98822 non-null  float64\n",
      " 7   object_type   98822 non-null  object \n",
      " 8   total_square  98822 non-null  float64\n",
      " 9   rooms         94840 non-null  float64\n",
      " 10  floor         98822 non-null  float64\n",
      " 11  city          91928 non-null  object \n",
      " 12  settlement    6894 non-null   object \n",
      " 13  district      75111 non-null  object \n",
      " 14  area          19498 non-null  object \n",
      " 15  description   98573 non-null  object \n",
      " 16  source        98822 non-null  object \n",
      "dtypes: float64(7), int64(1), object(9)\n",
      "memory usage: 12.8+ MB\n"
     ]
    }
   ],
   "source": [
    "df.info()"
   ]
  },
  {
   "cell_type": "markdown",
   "id": "9a2eeb7a",
   "metadata": {},
   "source": [
    "Использование геоданных позволяет более точно определить характеристики объектов недвижимости и их влияние на цену. Одним из способов получения геоданных является использование данных OpenStreetMap (OSM), которые содержат информацию о дорогах, зданиях, общественном транспорте и других объектах. \n",
    "\n",
    "С помощью библиотеки OSMnx мы можем загрузить данные OSM и использовать их для получения дополнительной информации о расположении объекта недвижимости. Это позволит создать новые признаки, такие как расстояние до ближайшей остановки общественного транспорта или парка от объекта недвижимости. Эти признаки помогут улучшить качество модели и сделать ее более интерпретируемой."
   ]
  },
  {
   "cell_type": "markdown",
   "id": "2a4d3c58",
   "metadata": {},
   "source": [
    "#### Источники. \n",
    "\n",
    "**OpenStreetMap (OSM)** — это проект по созданию свободной, редактируемой карты мира. Карта создается сообществом пользователей, которые вносят информацию о дорогах, зданиях, местах отдыха и других объектах в различных городах и странах. Все данные в OSM доступны для свободного использования и редактирования, что позволяет создавать на их основе новые карты и приложения. OSM является альтернативой коммерческим картам, таким как Google Maps или Yandex Maps.\n",
    "\n",
    "OSM может быть полезна для прогнозирования цен на недвижимость, так как она содержит информацию о транспортной инфраструктуре, расположении объектов инфраструктуры (школ, магазинов, парков и т.д.), а также о характеристиках зданий и их окружения (высота здания, количество этажей, наличие парковок и т.д.). Эти данные могут помочь определить факторы, влияющие на стоимость недвижимости, и использовать их для прогнозирования будущих цен. Например, наличие хорошей транспортной инфраструктуры и развитой инфраструктуры вокруг здания может повысить его стоимость."
   ]
  },
  {
   "cell_type": "markdown",
   "id": "8d262911",
   "metadata": {},
   "source": [
    "**Работа с OSM**"
   ]
  },
  {
   "cell_type": "code",
   "execution_count": 4,
   "id": "7e01630d",
   "metadata": {},
   "outputs": [],
   "source": [
    "import geopandas as gpd\n",
    "import pandas as pd\n",
    "import numpy as np\n",
    "import osmnx as ox\n",
    "from folium.plugins import HeatMap\n",
    "from shapely.geometry import Polygon\n",
    "from geopy.distance import distance"
   ]
  },
  {
   "cell_type": "code",
   "execution_count": 5,
   "id": "73f600c5",
   "metadata": {},
   "outputs": [],
   "source": [
    "# Функция принимает на вход геометрические данные и возвращает список координат\n",
    "def get_lat_lon(geometry):\n",
    "    # Если геометрические данные являются точкой, то получаем координаты точки и записываем их в переменную coords\n",
    "    # Если геометрические данные являются полигоном, то получаем координаты центроида полигона и записываем их в переменную coords\n",
    "    lon = geometry.apply(lambda x: x.x if x.type == 'Point' else x.centroid.x)\n",
    "    lat = geometry.apply(lambda x: x.y if x.type == 'Point' else x.centroid.y)\n",
    "    return lat, lon"
   ]
  },
  {
   "cell_type": "code",
   "execution_count": 6,
   "id": "97db3cca",
   "metadata": {},
   "outputs": [],
   "source": [
    "# функция для получения данных из OSM по заданным тегам и городу\n",
    "def osm_query(tag, city):\n",
    "    \n",
    "    #получаем геометрические данные из OSM по заданным тегам и городу\n",
    "    gdf = ox.geometries_from_place(city, tag).reset_index()\n",
    "    \n",
    "    # добавляем столбец с названием города\n",
    "    gdf['city'] = np.full(len(gdf), city.split(',')[0])\n",
    "    \n",
    "    # добавляем столбец с названием объекта (название тега)\n",
    "    gdf['object'] = np.full(len(gdf), list(tag.keys())[0])\n",
    "    \n",
    "    # добавляем столбец с типом объекта (значение тега)\n",
    "    gdf['type'] = np.full(len(gdf), tag[list(tag.keys())[0]])\n",
    "    \n",
    "    # оставляем только нужные столбцы в датафрейме\n",
    "    gdf = gdf[['city', 'object', 'type', 'geometry']]\n",
    "    print(gdf.shape)\n",
    "    return gdf"
   ]
  },
  {
   "cell_type": "markdown",
   "id": "f6c0cc4e",
   "metadata": {},
   "source": [
    "[Здесь](https://wiki.openstreetmap.org/wiki/RU:%D0%9E%D0%B1%D1%8A%D0%B5%D0%BA%D1%82%D1%8B_%D0%BA%D0%B0%D1%80%D1%82%D1%8B) искала необходимые объекты, которые могут влиять на стоимость жилья: "
   ]
  },
  {
   "cell_type": "code",
   "execution_count": 7,
   "id": "f8b13757",
   "metadata": {},
   "outputs": [],
   "source": [
    "# список тегов и городов для получения данных    \n",
    "tags = [{'building' : 'industrial'}, #промышленное здание\n",
    "        {'building' : 'office'}, #офисное здание \n",
    "        {'building':'train_station'}, #вокзал\n",
    "        {'highway' : 'bus_stop'}, #остановка\n",
    "        {'amenity':'school'}, #школьное здание\n",
    "        {'amenity':'university'}, #ВУЗ, университет \n",
    "        {'amenity':'clinic'}, #крупные поликлиники и коммерческие клиники без стационара \n",
    "        {'leisure':'park'}, #парки, открытые зелёные площадки для отдыха\n",
    "        {'leisure':'sports_centre'},#спортивные центры\n",
    "        {'building':'kindergarten'}, #детский сад\n",
    "        {'natural':'water'}, #любые водные поверхности - озёра, водоемы и т.д.\n",
    "       ]"
   ]
  },
  {
   "cell_type": "code",
   "execution_count": 8,
   "id": "b3f054b3",
   "metadata": {},
   "outputs": [],
   "source": [
    "cities = df.city.unique().tolist()"
   ]
  },
  {
   "cell_type": "code",
   "execution_count": 9,
   "id": "33f67951",
   "metadata": {},
   "outputs": [],
   "source": [
    "cities = [city + ', Россия' if type(city) == str else city for city in cities]"
   ]
  },
  {
   "cell_type": "code",
   "execution_count": 10,
   "id": "9cd1035c",
   "metadata": {},
   "outputs": [],
   "source": [
    "cities.remove(cities[1])"
   ]
  },
  {
   "cell_type": "code",
   "execution_count": 11,
   "id": "cffda991",
   "metadata": {},
   "outputs": [
    {
     "data": {
      "text/plain": [
       "['Москва, Россия',\n",
       " 'Балашиха, Россия',\n",
       " 'Люберцы, Россия',\n",
       " 'Красногорск, Россия',\n",
       " 'Химки, Россия',\n",
       " 'Королёв, Россия',\n",
       " 'Мытищи, Россия',\n",
       " 'Пушкино, Россия',\n",
       " 'Котельники, Россия',\n",
       " 'Одинцово, Россия',\n",
       " 'Щёлково, Россия',\n",
       " 'Дзержинский, Россия',\n",
       " 'Реутов, Россия',\n",
       " 'Ивантеевка, Россия',\n",
       " 'Московский, Россия',\n",
       " 'Лобня, Россия',\n",
       " 'Долгопрудный, Россия',\n",
       " 'Щербинка, Россия',\n",
       " 'Подольск, Россия',\n",
       " 'Видное, Россия',\n",
       " 'Лыткарино, Россия']"
      ]
     },
     "execution_count": 11,
     "metadata": {},
     "output_type": "execute_result"
    }
   ],
   "source": [
    "cities"
   ]
  },
  {
   "cell_type": "code",
   "execution_count": 12,
   "id": "d92df2d7",
   "metadata": {},
   "outputs": [
    {
     "name": "stdout",
     "output_type": "stream",
     "text": [
      "(6073, 4)\n",
      "(2444, 4)\n",
      "(212, 4)\n",
      "(10041, 4)\n",
      "(1947, 4)\n",
      "(370, 4)\n",
      "(1423, 4)\n",
      "(1174, 4)\n",
      "(732, 4)\n",
      "(1893, 4)\n",
      "(1348, 4)\n",
      "(1000, 4)\n",
      "(9, 4)\n",
      "(1, 4)\n",
      "(447, 4)\n",
      "(78, 4)\n",
      "(6, 4)\n",
      "(38, 4)\n",
      "(36, 4)\n",
      "(40, 4)\n",
      "(76, 4)\n",
      "(190, 4)\n",
      "(76, 4)\n",
      "(2, 4)\n",
      "(1, 4)\n",
      "(189, 4)\n",
      "(30, 4)\n",
      "(3, 4)\n",
      "(23, 4)\n",
      "(10, 4)\n",
      "(13, 4)\n",
      "(35, 4)\n",
      "(24, 4)\n",
      "(88, 4)\n",
      "(29, 4)\n",
      "(4, 4)\n",
      "(124, 4)\n",
      "(25, 4)\n",
      "(2, 4)\n",
      "(36, 4)\n",
      "(21, 4)\n",
      "(17, 4)\n",
      "(49, 4)\n",
      "(47, 4)\n",
      "(190, 4)\n",
      "(25, 4)\n",
      "(2, 4)\n",
      "(355, 4)\n",
      "(47, 4)\n",
      "(6, 4)\n",
      "(30, 4)\n",
      "(22, 4)\n",
      "(28, 4)\n",
      "(65, 4)\n",
      "(160, 4)\n",
      "(300, 4)\n",
      "(6, 4)\n",
      "(1, 4)\n",
      "(130, 4)\n",
      "(38, 4)\n",
      "(9, 4)\n",
      "(21, 4)\n",
      "(25, 4)\n",
      "(11, 4)\n",
      "(19, 4)\n",
      "(92, 4)\n",
      "(90, 4)\n",
      "(6, 4)\n",
      "(6, 4)\n",
      "(204, 4)\n",
      "(39, 4)\n",
      "(5, 4)\n",
      "(23, 4)\n",
      "(32, 4)\n",
      "(16, 4)\n",
      "(41, 4)\n",
      "(29, 4)\n",
      "(19, 4)\n",
      "(2, 4)\n",
      "(5, 4)\n",
      "(194, 4)\n",
      "(24, 4)\n",
      "(11, 4)\n",
      "(8, 4)\n",
      "(61, 4)\n",
      "(2, 4)\n",
      "(24, 4)\n",
      "(150, 4)\n",
      "(15, 4)\n",
      "(7, 4)\n",
      "(0, 4)\n",
      "(52, 4)\n",
      "(6, 4)\n",
      "(1, 4)\n",
      "(7, 4)\n",
      "(2, 4)\n",
      "(3, 4)\n",
      "(8, 4)\n",
      "(8, 4)\n",
      "(32, 4)\n",
      "(2, 4)\n",
      "(1, 4)\n",
      "(84, 4)\n",
      "(21, 4)\n",
      "(1, 4)\n",
      "(15, 4)\n",
      "(10, 4)\n",
      "(4, 4)\n",
      "(21, 4)\n",
      "(36, 4)\n",
      "(55, 4)\n",
      "(6, 4)\n",
      "(3, 4)\n",
      "(116, 4)\n",
      "(21, 4)\n",
      "(0, 4)\n",
      "(11, 4)\n",
      "(20, 4)\n",
      "(5, 4)\n",
      "(20, 4)\n",
      "(121, 4)\n",
      "(9, 4)\n",
      "(5, 4)\n",
      "(0, 4)\n",
      "(51, 4)\n",
      "(7, 4)\n",
      "(0, 4)\n",
      "(1, 4)\n",
      "(9, 4)\n",
      "(3, 4)\n",
      "(7, 4)\n",
      "(19, 4)\n",
      "(40, 4)\n",
      "(5, 4)\n",
      "(2, 4)\n",
      "(80, 4)\n",
      "(16, 4)\n",
      "(0, 4)\n",
      "(14, 4)\n",
      "(10, 4)\n",
      "(24, 4)\n",
      "(27, 4)\n",
      "(5, 4)\n",
      "(7, 4)\n",
      "(1, 4)\n",
      "(0, 4)\n",
      "(58, 4)\n",
      "(10, 4)\n",
      "(1, 4)\n",
      "(4, 4)\n",
      "(11, 4)\n",
      "(4, 4)\n",
      "(13, 4)\n",
      "(17, 4)\n",
      "(0, 4)\n",
      "(0, 4)\n",
      "(0, 4)\n",
      "(1, 4)\n",
      "(0, 4)\n",
      "(0, 4)\n",
      "(0, 4)\n",
      "(0, 4)\n",
      "(0, 4)\n",
      "(0, 4)\n",
      "(0, 4)\n",
      "(31, 4)\n",
      "(4, 4)\n",
      "(0, 4)\n",
      "(93, 4)\n",
      "(15, 4)\n",
      "(0, 4)\n",
      "(15, 4)\n",
      "(7, 4)\n",
      "(10, 4)\n",
      "(18, 4)\n",
      "(51, 4)\n",
      "(76, 4)\n",
      "(7, 4)\n",
      "(4, 4)\n",
      "(133, 4)\n",
      "(23, 4)\n",
      "(3, 4)\n",
      "(22, 4)\n",
      "(25, 4)\n",
      "(17, 4)\n",
      "(26, 4)\n",
      "(59, 4)\n",
      "(23, 4)\n",
      "(5, 4)\n",
      "(2, 4)\n",
      "(43, 4)\n",
      "(5, 4)\n",
      "(2, 4)\n",
      "(3, 4)\n",
      "(1, 4)\n",
      "(2, 4)\n",
      "(6, 4)\n",
      "(14, 4)\n",
      "(237, 4)\n",
      "(28, 4)\n",
      "(4, 4)\n",
      "(292, 4)\n",
      "(60, 4)\n",
      "(5, 4)\n",
      "(27, 4)\n",
      "(41, 4)\n",
      "(19, 4)\n",
      "(34, 4)\n",
      "(77, 4)\n",
      "(43, 4)\n",
      "(0, 4)\n",
      "(1, 4)\n",
      "(81, 4)\n",
      "(16, 4)\n",
      "(0, 4)\n",
      "(6, 4)\n",
      "(10, 4)\n",
      "(3, 4)\n",
      "(5, 4)\n",
      "(12, 4)\n",
      "(56, 4)\n",
      "(0, 4)\n",
      "(0, 4)\n",
      "(44, 4)\n",
      "(10, 4)\n",
      "(1, 4)\n",
      "(6, 4)\n",
      "(9, 4)\n",
      "(8, 4)\n",
      "(12, 4)\n",
      "(21, 4)\n"
     ]
    },
    {
     "name": "stderr",
     "output_type": "stream",
     "text": [
      "/var/folders/7l/jh1g9wm112171g1bjt4zytch0000gn/T/ipykernel_27524/373771680.py:5: ShapelyDeprecationWarning: The 'type' attribute is deprecated, and will be removed in the future. You can use the 'geom_type' attribute instead.\n",
      "  lon = geometry.apply(lambda x: x.x if x.type == 'Point' else x.centroid.x)\n",
      "/var/folders/7l/jh1g9wm112171g1bjt4zytch0000gn/T/ipykernel_27524/373771680.py:6: ShapelyDeprecationWarning: The 'type' attribute is deprecated, and will be removed in the future. You can use the 'geom_type' attribute instead.\n",
      "  lat = geometry.apply(lambda x: x.y if x.type == 'Point' else x.centroid.y)\n"
     ]
    }
   ],
   "source": [
    "# получаем данные по каждому тегу и городу и добавляем в список\n",
    "gdfs = [osm_query(tag, city) for city in cities for tag in tags]\n",
    "\n",
    "# объединяем полученные датафреймы в один\n",
    "infrastruct = pd.concat(gdfs)\n",
    "\n",
    "# группируем данные по городу, объекту и типу, подсчитываем количество записей и выводим результат\n",
    "infrastruct.groupby(['city','object','type'], as_index = False).agg({'geometry':'count'})\n",
    "\n",
    "# получаем координаты/центроиды из геометрических данных\n",
    "lat, lon = get_lat_lon(infrastruct['geometry'])\n",
    "infrastruct['lat'] = lat\n",
    "infrastruct['lon'] = lon"
   ]
  },
  {
   "cell_type": "code",
   "execution_count": 13,
   "id": "bda9c3bd",
   "metadata": {},
   "outputs": [
    {
     "data": {
      "text/plain": [
       "['industrial',\n",
       " 'office',\n",
       " 'train_station',\n",
       " 'bus_stop',\n",
       " 'school',\n",
       " 'university',\n",
       " 'clinic',\n",
       " 'park',\n",
       " 'sports_centre',\n",
       " 'kindergarten',\n",
       " 'water']"
      ]
     },
     "execution_count": 13,
     "metadata": {},
     "output_type": "execute_result"
    }
   ],
   "source": [
    "infrastruct['type'].unique().tolist()"
   ]
  },
  {
   "cell_type": "markdown",
   "id": "cb235a27",
   "metadata": {},
   "source": [
    "Таким образом, получили данные с необходимыми объектами в заданных городах"
   ]
  },
  {
   "cell_type": "markdown",
   "id": "00cc75e4",
   "metadata": {},
   "source": [
    "Найдем координаты этих объектов и вычислим минимальное расстояние квартиры до любого из объектов каждой категории"
   ]
  },
  {
   "cell_type": "code",
   "execution_count": 14,
   "id": "a49e0ecf",
   "metadata": {},
   "outputs": [],
   "source": [
    "from scipy.spatial import distance_matrix"
   ]
  },
  {
   "cell_type": "code",
   "execution_count": 14,
   "id": "a69a6c1a",
   "metadata": {},
   "outputs": [],
   "source": [
    "objects = infrastruct['type'].unique().tolist()"
   ]
  },
  {
   "cell_type": "code",
   "execution_count": 15,
   "id": "d33c2f8b",
   "metadata": {},
   "outputs": [],
   "source": [
    "# Функция для получения координат объектов инфраструктуры и добавления их в датафрейм\n",
    "def objects_coords(df_зфке):\n",
    "    objects = infrastruct['type'].unique().tolist()\n",
    "    for i in range(len(objects)):\n",
    "        tag = infrastruct[infrastruct['type'] == objects[i]].reset_index()\n",
    "\n",
    "        # Создаем список координат квартир и объектов данного типа \n",
    "        flats_coords = [(lat, lon) for lat, lon in zip(df[\"lat\"], df[\"lon\"])]\n",
    "        tag_coords = [(lat, lon) for lat, lon in zip(tag[\"lat\"], tag[\"lon\"])]\n",
    "        \n",
    "        # Создаем матрицу расстояний между квартирами и объектами данного типа\n",
    "        dist_matrix = distance_matrix(flats_coords, tag_coords)\n",
    "        \n",
    "        # Находим индексы ближайших объектов для каждой квартиры\n",
    "        nearest_idx = dist_matrix.argmin(axis=1)\n",
    "        \n",
    "        # Добавляем столбцы с координатами ближайших объектов данного типа в датафрейм df\n",
    "        df[\"lat_\" + objects[i]] = tag.loc[nearest_idx, 'lat'].values\n",
    "        df[\"lon_\" + objects[i]] = tag.loc[nearest_idx, 'lon'].values\n",
    "    return df"
   ]
  },
  {
   "cell_type": "code",
   "execution_count": null,
   "id": "d021bd95",
   "metadata": {},
   "outputs": [],
   "source": [
    "df = objects_coords(df)"
   ]
  },
  {
   "cell_type": "code",
   "execution_count": null,
   "id": "2f70c70e",
   "metadata": {},
   "outputs": [],
   "source": [
    "def coords_to_distance(df):\n",
    "    objects = infrastruct['type'].unique().tolist()\n",
    "    for i in range(len(objects)):\n",
    "        tag = infrastruct[infrastruct['type'] == objects[i]].reset_index()\n",
    "        # преобразуем координаты в массивы\n",
    "        flats_coords = [(lat, lon) for lat, lon in zip(df[\"lat\"], df[\"lon\"])]\n",
    "        tag_coords = [(lat, lon) for lat, lon in zip(tag[\"lat\"], tag[\"lon\"])]\n",
    "        dist_matrix = distance_matrix(flats_coords, tag_coords)\n",
    "        nearest_idx = dist_matrix.argmin(axis=1)\n",
    "        df[\"lat_\" + objects[i]] = tag.loc[nearest_idx, \"lat\"].values #!impotrant\n",
    "        df[\"lon_\" + objects[i]] = tag.loc[nearest_idx, \"lon\"].values\n",
    "    return df"
   ]
  },
  {
   "cell_type": "code",
   "execution_count": null,
   "id": "f27aeb49",
   "metadata": {},
   "outputs": [],
   "source": [
    "coords_to_distance(df)"
   ]
  },
  {
   "cell_type": "markdown",
   "id": "e035320d",
   "metadata": {},
   "source": [
    "Функция `coords_to_distance` выполняет те же действия, что и `objects_coords`, но добавляет в датафрейм не координаты объектов, а расстояния от каждой квартиры до ближайшего объекта каждого типа."
   ]
  },
  {
   "cell_type": "code",
   "execution_count": null,
   "id": "7cbd5710",
   "metadata": {},
   "outputs": [],
   "source": [
    "import math"
   ]
  },
  {
   "cell_type": "markdown",
   "id": "9055e735",
   "metadata": {},
   "source": [
    "Рассчитаем расстояния от каждой квартиры до ближайшего объекта каждого типа инфраструктуры. "
   ]
  },
  {
   "cell_type": "code",
   "execution_count": null,
   "id": "c4e3cce1",
   "metadata": {},
   "outputs": [],
   "source": [
    "def calculate_distance(df):\n",
    "    objects = infrastruct['type'].unique().tolist()\n",
    "    for i in range(len(objects)):\n",
    "        # Радиус Земли в километрах\n",
    "        R = 6371\n",
    "        \n",
    "        # Расчет разницы между широтами и долготами квартир и объектов данного типа в радианах\n",
    "        df['d_lat'] = (df['lat_' + objects[i]] - df['lat']).apply(math.radians)\n",
    "        df['d_lon'] = (df['lon_' + objects[i]] - df['lon']).apply(math.radians)\n",
    "        \n",
    "        # Расчет параметра a для формулы расстояния между точками на сфере\n",
    "        df['a'] = ((df['d_lat'] / 2).apply(math.sin))**2 + (df['lat'].apply(math.radians)).apply(math.cos) * (df['lat_' + objects[i]].apply(math.radians)).apply(math.cos) * ((df['d_lon'] / 2).apply(math.sin))**2 \n",
    "        \n",
    "        # Расчет параметров y и x для формулы расстояния между точками на сфере\n",
    "        df['y'] = df['a'].apply(math.sqrt)\n",
    "        df['x'] = (1 - df['a']).apply(math.sqrt)\n",
    "        \n",
    "        # Расчет угла между точками на сфере\n",
    "        arr = [2 * math.atan2(math.sqrt(df['a'][i]), math.sqrt(1 - df['a'][i])) for i in range(len(df))]\n",
    "        new_column = pd.Series(arr)\n",
    "        df = df.assign(angle=new_column)\n",
    "        \n",
    "        # Расчет расстояния между квартирами и объектами данного типа в метрах\n",
    "        df['distance_' + objects[i]] = R * df['angle'] * 1000 \n",
    "        \n",
    "        #Удаление врменных столбцов\n",
    "        df = df.drop(['d_lat', 'd_lon', 'a', 'y', 'x', 'angle'], axis=1)\n",
    "    return df"
   ]
  },
  {
   "cell_type": "markdown",
   "id": "15a29ac0",
   "metadata": {},
   "source": [
    "Функция использует данные о координатах квартир и объектов инфраструктуры, а также формулу расстояния между точками на сфере для определения расстояний в метрах. Результатом работы функции является дополненный исходный датафрейм с новыми столбцами, содержащими расстояния до каждого типа объектов инфраструктуры.\n"
   ]
  },
  {
   "cell_type": "code",
   "execution_count": null,
   "id": "ed44964f",
   "metadata": {},
   "outputs": [],
   "source": [
    "df = calculate_distance(df)"
   ]
  },
  {
   "cell_type": "markdown",
   "id": "c8d284b3",
   "metadata": {},
   "source": [
    "Теперь можем удалить все переменные, связанные с географическим положением объекта, поскольку мы воспоьлзовались информацией и сгенерировали новые признаки на основе этих данных. К географическим переменным относятся: ```postcode```, все переменные с приставкой ```lat``` и ```lon```."
   ]
  },
  {
   "cell_type": "code",
   "execution_count": null,
   "id": "68599a5a",
   "metadata": {},
   "outputs": [],
   "source": [
    "df.iloc[:, 17:43].columns"
   ]
  },
  {
   "cell_type": "code",
   "execution_count": null,
   "id": "87d691a3",
   "metadata": {},
   "outputs": [],
   "source": [
    "df = df.drop(df.iloc[:, 17:43].columns.tolist(), axis=1)"
   ]
  },
  {
   "cell_type": "code",
   "execution_count": null,
   "id": "0210050e",
   "metadata": {},
   "outputs": [],
   "source": [
    "df"
   ]
  }
 ],
 "metadata": {
  "kernelspec": {
   "display_name": "Python 3 (ipykernel)",
   "language": "python",
   "name": "python3"
  },
  "language_info": {
   "codemirror_mode": {
    "name": "ipython",
    "version": 3
   },
   "file_extension": ".py",
   "mimetype": "text/x-python",
   "name": "python",
   "nbconvert_exporter": "python",
   "pygments_lexer": "ipython3",
   "version": "3.9.13"
  }
 },
 "nbformat": 4,
 "nbformat_minor": 5
}
