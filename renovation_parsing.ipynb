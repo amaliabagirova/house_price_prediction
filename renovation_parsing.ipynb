{
 "cells": [
  {
   "cell_type": "markdown",
   "id": "a3ca3231",
   "metadata": {},
   "source": [
    "# Получение адресов, включенных в Программу реновации"
   ]
  },
  {
   "cell_type": "markdown",
   "id": "570b2781",
   "metadata": {},
   "source": [
    "**О реновации.** Реновация в Москве – это крупномасштабный проект по обновлению жилищного фонда города, который был запущен в 2017 году. Он предполагает снос старых и аварийных пятиэтажек и строительство вместо них новых комфортабельных домов. Проект реализуется на основе добровольного согласия жильцов, которые получают новое жилье взамен старого без доплаты. Реновация также предусматривает благоустройство территории, строительство новых социальных объектов и развитие инфраструктуры. \n",
    "\n",
    "Можно предполагать, в рамках задачи, чем лучше развита инфраструктура, чем больше социальных объектов и зеленых зон, тем привлекательнее район для жильцов, и, следовательно, тем выше может быть цена на жилье.\n",
    "\n",
    "**Задача.** Получить данные с сайта с [Фонда реновации](https://fr.mos.ru/uchastnikam-programmy/karta-renovatsii/?category[]=ALL)."
   ]
  },
  {
   "cell_type": "code",
   "execution_count": 1,
   "id": "d03b5d3d",
   "metadata": {},
   "outputs": [],
   "source": [
    "from selenium import webdriver\n",
    "from selenium.webdriver import Chrome\n",
    "from selenium.webdriver.common.keys import Keys\n",
    "from selenium.webdriver.support.ui import WebDriverWait as wait\n",
    "from selenium.webdriver.support import expected_conditions as EC\n",
    "from selenium.common.exceptions import NoSuchElementException\n",
    "from selenium.webdriver.common.by import By\n",
    "\n",
    "import time\n",
    "from bs4 import BeautifulSoup\n",
    "from tqdm import tqdm\n",
    "import pandas as pd"
   ]
  },
  {
   "cell_type": "code",
   "execution_count": null,
   "id": "ac2d0f9f",
   "metadata": {},
   "outputs": [
    {
     "name": "stderr",
     "output_type": "stream",
     "text": [
      "/var/folders/7l/jh1g9wm112171g1bjt4zytch0000gn/T/ipykernel_52461/1710455556.py:2: DeprecationWarning: executable_path has been deprecated, please pass in a Service object\n",
      "  browser = Chrome(\"/Users/amalia/Desktop/chromedriver\")\n"
     ]
    }
   ],
   "source": [
    "#создаю экземпляр браузера Chrome, инициализирую драйвер Chrome\n",
    "browser = Chrome(\"/Users/amalia/Desktop/chromedriver\")\n",
    "driver = webdriver.Chrome()\n",
    "\n",
    "url = \"https://fr.mos.ru/uchastnikam-programmy/karta-renovatsii/?category[]=ALL\"\n",
    "browser.get(url)"
   ]
  },
  {
   "cell_type": "code",
   "execution_count": null,
   "id": "7801f6f8",
   "metadata": {},
   "outputs": [],
   "source": [
    "renov_df=[]\n",
    "for i in range(1, 966):\n",
    "    soup = BeautifulSoup(browser.page_source, 'lxml')\n",
    "    objects = soup.findAll('tr', class_='object-item')\n",
    "    for obj in objects:\n",
    "        try:\n",
    "            renov_address = obj.find('span', class_='table-title').text\n",
    "        except AttributeError:\n",
    "            renov_address = obj.find('a', class_='table-title').text\n",
    "        renov_area = obj.find('div', class_='table-subtitle').text\n",
    "        renov_status = obj.find('td', class_='object-statuses').find('span').text\n",
    "        renov_df.append([renov_address, renov_area, renov_status])\n",
    "    \n",
    "    #если это шестая итерация на каждом круге, то клик на кнопку \"Следующее\"\n",
    "    if i % 6 == 0:\n",
    "        browser.find_element(By.XPATH, '//*[@id=\"main-map-wrapper\"]/div[5]/div[2]/div[2]/ul/li[8]/span/span').click()\n",
    "    else:\n",
    "        browser.find_element(By.XPATH, f'/html/body/main/section[2]/div[5]/div[2]/div[2]/ul/li[{(i % 6) + 2}]').click()\n",
    "    time.sleep(2)\n",
    "    "
   ]
  },
  {
   "cell_type": "code",
   "execution_count": null,
   "id": "314b2688",
   "metadata": {},
   "outputs": [],
   "source": [
    "renov_df[-1]"
   ]
  },
  {
   "cell_type": "code",
   "execution_count": null,
   "id": "d7f616be",
   "metadata": {},
   "outputs": [],
   "source": [
    "renov_df = pd.DataFrame(renov_df, columns = ['renov_address','renov_area', 'renov_status'])"
   ]
  },
  {
   "cell_type": "code",
   "execution_count": null,
   "id": "d5b1fee9",
   "metadata": {},
   "outputs": [],
   "source": [
    "renov_df.to_csv(\"renovation.csv\")"
   ]
  },
  {
   "cell_type": "code",
   "execution_count": null,
   "id": "3344e3b9",
   "metadata": {},
   "outputs": [],
   "source": [
    "df = pd.read_csv('realty_data.csv')"
   ]
  },
  {
   "cell_type": "code",
   "execution_count": null,
   "id": "0f9fde70",
   "metadata": {},
   "outputs": [],
   "source": [
    "renov_df = pd.read_csv(\"renovation.csv\")"
   ]
  },
  {
   "cell_type": "code",
   "execution_count": null,
   "id": "46f3fd89",
   "metadata": {},
   "outputs": [],
   "source": [
    "df[['address_name']]"
   ]
  },
  {
   "cell_type": "code",
   "execution_count": null,
   "id": "a15b6cb7",
   "metadata": {},
   "outputs": [],
   "source": [
    "renov_df[['renov_address']]"
   ]
  },
  {
   "cell_type": "code",
   "execution_count": null,
   "id": "d4ab61a4",
   "metadata": {},
   "outputs": [],
   "source": [
    "renov_df['renov_address'] = renov_df['renov_address'].str.replace('дом', '')"
   ]
  },
  {
   "cell_type": "code",
   "execution_count": null,
   "id": "39a61c31",
   "metadata": {},
   "outputs": [],
   "source": [
    "renov_df['renov_address'] = renov_df['renov_address'].str.replace('.', '')"
   ]
  },
  {
   "cell_type": "code",
   "execution_count": null,
   "id": "5737a205",
   "metadata": {},
   "outputs": [],
   "source": [
    "renov_df = renov_df.rename(columns={\"renov_address\" : \"address_name\"})"
   ]
  },
  {
   "cell_type": "code",
   "execution_count": null,
   "id": "105e3230",
   "metadata": {},
   "outputs": [],
   "source": [
    "renov_df['address_name'] = renov_df['address_name'].str.replace('  ', ' ')"
   ]
  },
  {
   "cell_type": "code",
   "execution_count": null,
   "id": "b2e34152",
   "metadata": {},
   "outputs": [],
   "source": [
    "renov_df = df.merge(renov_df, on = \"address_name\", how=\"left\")"
   ]
  },
  {
   "cell_type": "code",
   "execution_count": null,
   "id": "e37d2355",
   "metadata": {},
   "outputs": [],
   "source": [
    "renov_df[renov_df['renov_status'].notnull()]"
   ]
  },
  {
   "cell_type": "code",
   "execution_count": null,
   "id": "6c7c60f4",
   "metadata": {},
   "outputs": [],
   "source": [
    "renov_df.to_csv(\"renovation_realty_data.csv\")"
   ]
  }
 ],
 "metadata": {
  "kernelspec": {
   "display_name": "Python 3 (ipykernel)",
   "language": "python",
   "name": "python3"
  },
  "language_info": {
   "codemirror_mode": {
    "name": "ipython",
    "version": 3
   },
   "file_extension": ".py",
   "mimetype": "text/x-python",
   "name": "python",
   "nbconvert_exporter": "python",
   "pygments_lexer": "ipython3",
   "version": "3.9.13"
  }
 },
 "nbformat": 4,
 "nbformat_minor": 5
}
